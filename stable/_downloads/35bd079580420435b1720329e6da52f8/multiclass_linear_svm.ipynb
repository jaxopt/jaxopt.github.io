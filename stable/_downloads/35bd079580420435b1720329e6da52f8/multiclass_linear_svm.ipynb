{
  "cells": [
    {
      "cell_type": "code",
      "execution_count": null,
      "metadata": {
        "collapsed": false
      },
      "outputs": [],
      "source": [
        "%matplotlib inline"
      ]
    },
    {
      "cell_type": "markdown",
      "metadata": {},
      "source": [
        "\n# Multiclass linear SVM (without intercept).\n"
      ]
    },
    {
      "cell_type": "code",
      "execution_count": null,
      "metadata": {
        "collapsed": false
      },
      "outputs": [],
      "source": [
        "from absl import app\nimport jax.numpy as jnp\nfrom jaxopt import BlockCoordinateDescent\nfrom jaxopt import objective\nfrom jaxopt import projection\nfrom jaxopt import prox\nfrom sklearn import datasets\nfrom sklearn import preprocessing\nfrom sklearn import svm\n\n\ndef multiclass_linear_svm_skl(X, y, lam, tol=1e-5):\n  svc = svm.LinearSVC(loss=\"hinge\", dual=True, multi_class=\"crammer_singer\",\n                      C=1.0 / lam, fit_intercept=False, tol=tol).fit(X, y)\n  return svc.coef_.T\n\n\ndef main(argv):\n  del argv\n\n  # Generate data.\n  n_samples, n_classes = 20, 3\n  X, y = datasets.make_classification(n_samples=n_samples, n_features=5,\n                                      n_informative=3, n_classes=n_classes,\n                                      random_state=0)\n  Y = preprocessing.LabelBinarizer().fit_transform(y)\n  Y = jnp.array(Y)\n\n  # Set up parameters.\n  block_prox = prox.make_prox_from_projection(projection.projection_simplex)\n  fun = objective.multiclass_linear_svm_dual\n  data = (X, Y)\n  lam = 1000.0\n  beta_init = jnp.ones((n_samples, n_classes)) / n_classes\n\n  # Run solver.\n  bcd = BlockCoordinateDescent(fun=fun, block_prox=block_prox,\n                               maxiter=3500, tol=1e-5)\n  sol = bcd.run(beta_init, hyperparams_prox=None, lam=lam, data=data)\n\n  # Compare against sklearn.\n  W_skl = multiclass_linear_svm_skl(X, y, lam)\n  W_fit = jnp.dot(X.T, (Y - sol.params)) / lam\n\n  print(W_skl)\n  print(W_fit)\n\n\nif __name__ == \"__main__\":\n  app.run(main)"
      ]
    }
  ],
  "metadata": {
    "kernelspec": {
      "display_name": "Python 3",
      "language": "python",
      "name": "python3"
    },
    "language_info": {
      "codemirror_mode": {
        "name": "ipython",
        "version": 3
      },
      "file_extension": ".py",
      "mimetype": "text/x-python",
      "name": "python",
      "nbconvert_exporter": "python",
      "pygments_lexer": "ipython3",
      "version": "3.8.2"
    }
  },
  "nbformat": 4,
  "nbformat_minor": 0
}