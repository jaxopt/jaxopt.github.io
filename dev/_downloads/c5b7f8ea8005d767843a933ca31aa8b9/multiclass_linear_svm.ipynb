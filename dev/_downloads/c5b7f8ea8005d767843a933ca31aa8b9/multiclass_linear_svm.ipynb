{
  "cells": [
    {
      "cell_type": "markdown",
      "metadata": {},
      "source": [
        "\n# Multiclass linear SVM (without intercept).\n\nThis quadratic program can be solved either with OSQP or with block coordinate descent.\n  \nReference:  \n  \n  Crammer, K. and Singer, Y., 2001. On the algorithmic implementation of multiclass kernel-based vector machines.\n  Journal of machine learning research, 2(Dec), pp.265-292.\n"
      ]
    },
    {
      "cell_type": "code",
      "execution_count": null,
      "metadata": {
        "collapsed": false
      },
      "outputs": [],
      "source": [
        "from absl import app\nfrom absl import flags\n\nimport jax\nimport jax.numpy as jnp\n\nfrom jaxopt import BlockCoordinateDescent\nfrom jaxopt import OSQP\nfrom jaxopt import objective\nfrom jaxopt import projection\nfrom jaxopt import prox\n\nfrom sklearn import datasets\nfrom sklearn import preprocessing\nfrom sklearn import svm\n\n\nflags.DEFINE_float(\"tol\", 1e-5, \"Tolerance of solvers.\")\nflags.DEFINE_float(\"l2reg\", 1000., \"Regularization parameter. Must be positive.\")\nflags.DEFINE_integer(\"num_samples\", 20, \"Size of train set.\")\nflags.DEFINE_integer(\"num_features\", 5, \"Features dimension.\")\nflags.DEFINE_integer(\"num_classes\", 3, \"Number of classes.\")\nflags.DEFINE_bool(\"verbose\", False, \"Verbosity.\")\nFLAGS = flags.FLAGS\n\n\ndef multiclass_linear_svm_skl(X, y, l2reg):\n  print(\"Solve multiclass SVM with sklearn.svm.LinearSVC:\")\n  svc = svm.LinearSVC(loss=\"hinge\", dual=True, multi_class=\"crammer_singer\",\n                      C=1.0 / l2reg, fit_intercept=False,\n                      tol=FLAGS.tol, max_iter=100*1000).fit(X, y)\n  return svc.coef_.T\n\n\ndef multiclass_linear_svm_bcd(X, Y, l2reg):\n  print(\"Block coordinate descent solution:\")\n\n  # Set up parameters.\n  block_prox = prox.make_prox_from_projection(projection.projection_simplex)\n  fun = objective.multiclass_linear_svm_dual\n  data = (X, Y)\n  beta_init = jnp.ones((X.shape[0], Y.shape[-1])) / Y.shape[-1]\n\n  # Run solver.\n  bcd = BlockCoordinateDescent(fun=fun, block_prox=block_prox,\n                               maxiter=10*1000, tol=FLAGS.tol)\n  sol = bcd.run(beta_init, hyperparams_prox=None, l2reg=FLAGS.l2reg, data=data)\n  return sol.params\n\n\ndef multiclass_linear_svm_osqp(X, Y, l2reg):\n  # We solve the problem\n  #\n  #   minimize 0.5/l2reg beta X X.T beta - (1. - Y)^T beta - 1./l2reg (Y^T X) X^T beta\n  #   under        beta >= 0\n  #         sum_i beta_i = 1\n  #\n  print(\"OSQP solution solution:\")\n\n  def matvec_Q(X, beta):\n    return 1./l2reg * jnp.dot(X, jnp.dot(X.T, beta))\n\n  linear_part = - (1. - Y) - 1./l2reg * jnp.dot(X, jnp.dot(X.T, Y))\n\n  def matvec_A(_, beta):\n    return jnp.sum(beta, axis=-1)\n\n  def matvec_G(_, beta):\n    return -beta\n\n  b = jnp.ones(X.shape[0])\n  h = jnp.zeros_like(Y)\n\n  osqp = OSQP(matvec_Q=matvec_Q, matvec_A=matvec_A, matvec_G=matvec_G, tol=FLAGS.tol, maxiter=10*1000)\n  hyper_params = dict(params_obj=(X, linear_part),\n                      params_eq=(None, b),\n                      params_ineq=(None, h))\n  \n  sol, _ = osqp.run(init_params=None, **hyper_params)\n  return sol.primal\n\n\ndef main(argv):\n  del argv\n\n  # Generate data.\n  num_samples = FLAGS.num_samples\n  num_features = FLAGS.num_features\n  num_classes = FLAGS.num_classes\n\n  X, y = datasets.make_classification(n_samples=num_samples, n_features=num_features,\n                                      n_informative=3, n_classes=num_classes, random_state=0)\n  X = preprocessing.Normalizer().fit_transform(X)\n  Y = preprocessing.LabelBinarizer().fit_transform(y)\n  Y = jnp.array(Y)\n\n  l2reg = FLAGS.l2reg\n\n  # Compare against sklearn.\n  W_osqp = multiclass_linear_svm_osqp(X, Y, l2reg)\n  W_fit_osqp = jnp.dot(X.T, (Y - W_osqp)) / l2reg\n  print(W_fit_osqp)\n  print()\n\n  W_bcd = multiclass_linear_svm_bcd(X, Y, l2reg)\n  W_fit_bcd  = jnp.dot(X.T, (Y - W_bcd)) / l2reg\n  print(W_fit_bcd)\n  print()\n\n  W_skl = multiclass_linear_svm_skl(X, y, l2reg)\n  print(W_skl)\n  print()\n\n\nif __name__ == \"__main__\":\n  jax.config.update(\"jax_platform_name\", \"cpu\")\n  app.run(main)"
      ]
    }
  ],
  "metadata": {
    "kernelspec": {
      "display_name": "Python 3",
      "language": "python",
      "name": "python3"
    },
    "language_info": {
      "codemirror_mode": {
        "name": "ipython",
        "version": 3
      },
      "file_extension": ".py",
      "mimetype": "text/x-python",
      "name": "python",
      "nbconvert_exporter": "python",
      "pygments_lexer": "ipython3",
      "version": "3.11.5"
    }
  },
  "nbformat": 4,
  "nbformat_minor": 0
}