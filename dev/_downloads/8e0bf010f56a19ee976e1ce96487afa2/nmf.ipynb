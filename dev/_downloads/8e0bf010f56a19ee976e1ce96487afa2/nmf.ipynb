{
  "cells": [
    {
      "cell_type": "markdown",
      "metadata": {},
      "source": [
        "\n# Non-negative matrix factorizaton (NMF) using alternating minimization.\n"
      ]
    },
    {
      "cell_type": "code",
      "execution_count": null,
      "metadata": {
        "collapsed": false
      },
      "outputs": [],
      "source": [
        "from absl import app\nfrom absl import flags\n\nimport jax.numpy as jnp\n\nfrom jaxopt import BlockCoordinateDescent\nfrom jaxopt import objective\nfrom jaxopt import prox\n\nimport numpy as onp\n\nfrom sklearn import datasets\n\n\nflags.DEFINE_string(\"penalty\", \"l2\", \"Regularization type.\")\nflags.DEFINE_float(\"gamma\", 1.0, \"Regularization strength.\")\nFLAGS = flags.FLAGS\n\n\ndef nnreg(U, V_init, X, maxiter=150):\n  \"\"\"Regularized non-negative regression.\n\n  We solve::\n\n  min_{V >= 0} mean((U V^T - X) ** 2) + 0.5 * gamma * ||V||^2_2\n\n  or\n\n  min_{V >= 0} mean((U V^T - X) ** 2) +  gamma * ||V||_1\n  \"\"\"\n  if FLAGS.penalty == \"l2\":\n    block_prox = prox.prox_non_negative_ridge\n  elif FLAGS.penalty == \"l1\":\n    block_prox = prox.prox_non_negative_lasso\n  else:\n    raise ValueError(\"Invalid penalty.\")\n\n  bcd = BlockCoordinateDescent(fun=objective.least_squares,\n                               block_prox=block_prox,\n                               maxiter=maxiter)\n  sol = bcd.run(init_params=V_init.T, hyperparams_prox=FLAGS.gamma, data=(U, X))\n  return sol.params.T  # approximate solution V\n\n\ndef reconstruction_error(U, V, X):\n  \"\"\"Computes (unregularized) reconstruction error.\"\"\"\n  UV = jnp.dot(U, V.T)\n  return 0.5 * jnp.mean((UV - X) ** 2)\n\n\ndef nmf(U_init, V_init, X, maxiter=10):\n  \"\"\"NMF by alternating minimization.\n\n  We solve\n\n    min_{U >= 0, V>= 0} ||U V^T - X||^2 + 0.5 * gamma * (||U||^2_2 + ||V||^2_2)\n\n  or\n\n    min_{U >= 0, V>= 0} ||U V^T - X||^2 + gamma * (||U||_1 + ||V||_1)\n  \"\"\"\n  U, V = U_init, V_init\n\n  error = reconstruction_error(U, V, X)\n  print(f\"STEP: 0; Error: {error:.3f}\")\n  print()\n\n  for step in range(1, maxiter + 1):\n    print(f\"STEP: {step}\")\n\n    V = nnreg(U, V, X, maxiter=150)\n    error = reconstruction_error(U, V, X)\n    print(f\"Error: {error:.3f} (V update)\")\n\n    U = nnreg(V, U, X.T, maxiter=150)\n    error = reconstruction_error(U, V, X)\n    print(f\"Error: {error:.3f} (U update)\")\n    print()\n\n\ndef main(argv):\n  del argv\n\n  # Prepare data.\n  X, _ = datasets.load_boston(return_X_y=True)\n  X = jnp.sqrt(X ** 2)\n\n  n_samples = X.shape[0]\n  n_features = X.shape[1]\n  n_components = 10\n\n  rng = onp.random.RandomState(0)\n  U = jnp.array(rng.rand(n_samples, n_components))\n  V = jnp.array(rng.rand(n_features, n_components))\n\n  # Run the algorithm.\n  print(\"penalty:\", FLAGS.penalty)\n  print(\"gamma\", FLAGS.gamma)\n  print()\n\n  nmf(U, V, X, maxiter=30)\n\nif __name__ == \"__main__\":\n  app.run(main)"
      ]
    }
  ],
  "metadata": {
    "kernelspec": {
      "display_name": "Python 3",
      "language": "python",
      "name": "python3"
    },
    "language_info": {
      "codemirror_mode": {
        "name": "ipython",
        "version": 3
      },
      "file_extension": ".py",
      "mimetype": "text/x-python",
      "name": "python",
      "nbconvert_exporter": "python",
      "pygments_lexer": "ipython3",
      "version": "3.11.5"
    }
  },
  "nbformat": 4,
  "nbformat_minor": 0
}