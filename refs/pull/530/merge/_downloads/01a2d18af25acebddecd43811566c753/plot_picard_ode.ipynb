{
  "cells": [
    {
      "cell_type": "markdown",
      "metadata": {},
      "source": [
        "\n# Anderson acceleration in application to Picard\u2013Lindel\u00f6f theorem.\n\nThanks to the [Picard\u2013Lindel\u00f6f theorem,](https://en.wikipedia.org/wiki/Picard%E2%80%93Lindel%C3%B6f_theorem) we can\nreduce differential equation solving to fixed point computations and simple\nintegration.  More precisely consider the ODE:\n\n\\begin{align}y'(t)=f(t,y(t))\\end{align}\n\nof some time-dependant dynamic\n$f:\\mathbb{R}\\times\\mathbb{R}^d\\rightarrow\\mathbb{R}^d$ and initial\nconditions $y(0)=y_0$.  Then $y$ is the fixed point of the following\nmap:\n\n\\begin{align}y(t)=T(y)(t)\\mathrel{\\mathop:}=y_0+\\int_0^t f(s,y(s))\\mathrm{d}s\\end{align}\n\nThen we can define the sequence of functions $(\\phi_k)$ with\n$\\phi_0=0$ recursively as follows:\n\n\\begin{align}\\phi_{k+1}(t)=T(\\phi_k)(t)\\mathrel{\\mathop:} =\n  y_0+\\int_0^t f(s,\\phi_k(s))\\mathrm{d}s\\end{align}\n\nSuch sequence converges to the solution of the ODE, i.e.,\n$\\lim_{k\\rightarrow\\infty}\\phi_k=y$.\n\nIn this example we choose $f(t,y(t))=1+y(t)^2$. We know that the\nanalytical solution is $y(t)=\\tan{t}$ , which we use as a ground truth to\nevaluate our numerical scheme.\nWe used ``scipy.integrate.cumtrapz`` to perform\nintegration, but any other integration method can be used.\n"
      ]
    },
    {
      "cell_type": "code",
      "execution_count": null,
      "metadata": {
        "collapsed": false
      },
      "outputs": [],
      "source": [
        "import jax\nimport jax.numpy as jnp\n\nfrom jaxopt import AndersonAcceleration\n\nfrom jaxopt import objective\nfrom jaxopt.tree_util import tree_scalar_mul, tree_sub\n\nimport numpy as np\nimport matplotlib.pyplot as plt\nfrom sklearn import datasets\nfrom matplotlib.pyplot import cm\nimport scipy.integrate\n\njax.config.update(\"jax_platform_name\", \"cpu\")\n\n\n# Solve the differential equation y'(t)=1+t^2, with solution y(t) = tan(t)\ndef f(ti, phi):\n  return 1 + phi ** 2\n\ndef T(phi_cur, ti, y0, dx):\n  \"\"\"Fixed point iteration in the Picard method.\n  See: https://en.wikipedia.org/wiki/Picard%E2%80%93Lindel%C3%B6f_theorem\"\"\"\n  f_phi = f(ti, phi_cur)\n  phi_next = scipy.integrate.cumtrapz(f_phi, initial=y0, dx=dx)\n  return phi_next\n\ny0 = 0\nnum_interpolating_points = 100\nt0 = jnp.array(0.)\ntmax = 0.9 * (jnp.pi / 2) # stop before pi/2 to ensure convergence\ndx = (tmax - t0) / (num_interpolating_points-1)\nphi0 = jnp.zeros(num_interpolating_points)\nti = np.linspace(t0, tmax, num_interpolating_points)\n\nsols = [phi0]\naa = AndersonAcceleration(T, history_size=5, maxiter=50, ridge=1e-5, jit=False)\nstate = aa.init_state(phi0, ti, y0, dx)\nsol = phi0\nsols.append(sol)\nfor k in range(aa.maxiter):\n  sol, state = aa.update(phi0, state, ti, y0, dx)\n  sols.append(sol)\nres = sols[-1] - np.tan(ti)\nprint(f'Error of {jnp.linalg.norm(res)} with ground truth tan(t)')\n\n\n# vizualize the first 8 iterates to make the figure easier to read\nsols = sols[4:12]\nfig = plt.figure(figsize=(8,4))\nax = fig.add_subplot(1, 1, 1)\n\ncolors = cm.plasma(np.linspace(0, 1, len(sols)))\nfor k, (sol, c) in enumerate(zip(sols, colors)):\n  desc = rf'$\\phi_{k}$' if k > 0 else rf'$\\phi_0=0$'\n  ax.plot(ti, sol, '+', c=c, label=desc)\nax.plot(ti, np.tan(ti), '-', c='green', label=r'$y(t)=\\tan{(t)}$ (ground truth)')\n\nax.legend()\nprops = dict(boxstyle='round', facecolor='wheat', alpha=0.5)\nformula = rf'$\\phi_{{k+1}}(t)=\\phi_0+\\int_0^{{{tmax/2:.2f}\\pi}} f(t,\\phi_{{k}}(t))\\mathrm{{d}}t$'\nax.text(0.42, 0.85, formula, transform=ax.transAxes, fontsize=14, verticalalignment='top', bbox=props)\nfig.suptitle('Anderson acceleration for ODE solving')\nplt.show()"
      ]
    }
  ],
  "metadata": {
    "kernelspec": {
      "display_name": "Python 3",
      "language": "python",
      "name": "python3"
    },
    "language_info": {
      "codemirror_mode": {
        "name": "ipython",
        "version": 3
      },
      "file_extension": ".py",
      "mimetype": "text/x-python",
      "name": "python",
      "nbconvert_exporter": "python",
      "pygments_lexer": "ipython3",
      "version": "3.11.5"
    }
  },
  "nbformat": 4,
  "nbformat_minor": 0
}